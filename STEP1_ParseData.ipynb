{
 "cells": [
  {
   "cell_type": "markdown",
   "metadata": {},
   "source": [
    "# Logistic"
   ]
  },
  {
   "cell_type": "code",
   "execution_count": 1,
   "metadata": {
    "collapsed": true
   },
   "outputs": [],
   "source": [
    "import glob\n",
    "import os.path\n",
    "\n",
    "import bioformats\n",
    "import javabridge\n",
    "import numpy\n",
    "\n",
    "import deepometry.parse"
   ]
  },
  {
   "cell_type": "code",
   "execution_count": 2,
   "metadata": {
    "collapsed": true
   },
   "outputs": [],
   "source": [
    "javabridge.start_vm(class_path=bioformats.JARS, max_heap_size=\"4G\")"
   ]
  },
  {
   "cell_type": "code",
   "execution_count": 3,
   "metadata": {
    "collapsed": true
   },
   "outputs": [],
   "source": [
    "#bags = ['A', 'B', 'D', 'E', 'F', 'H']\n",
    "#bags = ['C']\n",
    "bags = ['G', 'I', 'J']\n",
    "patients = [str(bag + str(i+1)) for bag in bags for i in range(3)]"
   ]
  },
  {
   "cell_type": "code",
   "execution_count": 4,
   "metadata": {
    "collapsed": true
   },
   "outputs": [],
   "source": [
    "labels = [\"Smooth Disc\", \"Smooth Sphere\", \"Crenated Discoid\", \"Crenated Disc_\", \"Crenated Spheroid\", \"Crenated Spheres\"]\n",
    "day_of_exp = [str('D' + str(i)) for i in list(range(1,46))] "
   ]
  },
  {
   "cell_type": "code",
   "execution_count": 5,
   "metadata": {
    "collapsed": true
   },
   "outputs": [],
   "source": [
    "channels = [0,1,2]"
   ]
  },
  {
   "cell_type": "code",
   "execution_count": 6,
   "metadata": {
    "collapsed": true
   },
   "outputs": [],
   "source": [
    "image_size = 48"
   ]
  },
  {
   "cell_type": "code",
   "execution_count": 7,
   "metadata": {
    "collapsed": true
   },
   "outputs": [],
   "source": [
    "src = \"/raw_data/\"\n",
    "\n",
    "dest = \"/parsed_data/\""
   ]
  },
  {
   "cell_type": "markdown",
   "metadata": {},
   "source": [
    "# Parse data"
   ]
  },
  {
   "cell_type": "code",
   "execution_count": 8,
   "metadata": {
    "collapsed": true
   },
   "outputs": [],
   "source": [
    "for day in day_of_exp:\n",
    "    #print(\"Parsing directory: {}\".format(day))\n",
    "    \n",
    "    for bag in bags:\n",
    "        b = 'Bag' + str(bag)\n",
    "\n",
    "        src_dir = os.path.join(src, b, day)\n",
    "           \n",
    "        for patient in patients:\n",
    "\n",
    "            a = 'Bag' + str(patient)\n",
    "\n",
    "            dest_dir = os.path.join(dest, a , day)\n",
    "\n",
    "            for label in labels:\n",
    "                pathnames = glob.glob(os.path.join(src_dir, \"{}/*{}*.cif\".format(patient, label)))\n",
    "\n",
    "                for pathname in pathnames:\n",
    "                    deepometry.parse.parse(pathname, dest_dir, image_size, channels)\n",
    "\n",
    "                #print(\"\\tparsed day {} patient {} label {}\".format(day,patient, label))\n",
    "                \n",
    "print('Done')"
   ]
  }
 ],
 "metadata": {
  "kernelspec": {
   "display_name": "Python 3",
   "language": "python",
   "name": "python3"
  },
  "language_info": {
   "codemirror_mode": {
    "name": "ipython",
    "version": 3
   },
   "file_extension": ".py",
   "mimetype": "text/x-python",
   "name": "python",
   "nbconvert_exporter": "python",
   "pygments_lexer": "ipython3",
   "version": "3.6.4"
  }
 },
 "nbformat": 4,
 "nbformat_minor": 1
}
