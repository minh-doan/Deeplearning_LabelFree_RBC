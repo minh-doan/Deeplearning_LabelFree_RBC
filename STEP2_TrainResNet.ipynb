{
 "cells": [
  {
   "cell_type": "markdown",
   "metadata": {},
   "source": [
    "# Logistic"
   ]
  },
  {
   "cell_type": "code",
   "execution_count": null,
   "metadata": {},
   "outputs": [],
   "source": [
    "import glob\n",
    "import os\n",
    "import itertools\n",
    "import re\n",
    "from collections import Counter\n",
    "\n",
    "import numpy\n",
    "import tensorflow\n",
    "import keras\n",
    "\n",
    "import deepometry.model"
   ]
  },
  {
   "cell_type": "code",
   "execution_count": null,
   "metadata": {},
   "outputs": [],
   "source": [
    "def collect_pathnames(directories, labels):\n",
    "    \"\"\"\n",
    "    :param directories: List of directories to select samples from. Assumes subdirectories of each directory\n",
    "                        correspond to class labels. Contents of subdirectories are NPY files containing data\n",
    "                        of that label.\n",
    "    :return: List of pathnames.\n",
    "    \"\"\"\n",
    "    pathnames = []\n",
    "\n",
    "    for directory in directories:\n",
    "        subdirectories = sorted(glob.glob(os.path.join(directory, \"*\")))\n",
    "        \n",
    "        # transform the files of the same label into directory\n",
    "        filelist = [glob.glob(\"{}/*{}*\".format(subdirectory,label)) for label in labels for subdirectory in subdirectories ]\n",
    "        \n",
    "        subdirectory_pathnames = []\n",
    "        for i in range(len(labels)):\n",
    "            a = filelist[i*len(subdirectories):(i+1)*len(subdirectories)]\n",
    "            subdirectory_pathnames.append( list(itertools.chain.from_iterable(a)) )        \n",
    "\n",
    "        #nsamples = max([len(pathnames) for pathnames in subdirectory_pathnames])\n",
    "        nsamples = min([len(pathnames) for pathnames in subdirectory_pathnames])\n",
    "\n",
    "        pathnames += [list(numpy.random.permutation(pathnames)[:nsamples]) for pathnames in subdirectory_pathnames]\n",
    "\n",
    "    pathnames = sum(pathnames, [])\n",
    "\n",
    "    return pathnames\n",
    "\n",
    "\n",
    "def load(pathnames, labels, dates):\n",
    "    \"\"\"\n",
    "    Load training and target data.\n",
    "    \n",
    "    Assumes data is stored in a directory corresponding to some class label.\n",
    "\n",
    "    :param pathnames: List of image pathnames.\n",
    "    :param labels: List of class labels.\n",
    "    :return: Tuple (training, target) data, as NumPy arrays.\n",
    "    \"\"\"\n",
    "    #--- To ignore some class ---#\n",
    "    #pathnames = [x for x in pathnames if ((\"renated\" in x) and (\"oid\" not in x))]\n",
    "    #pathnames = [x for x in pathnames if \"oid\" not in x]\n",
    "    \n",
    "    x = numpy.empty((len(pathnames),) + _shape(pathnames[0]), dtype=numpy.uint8)\n",
    "\n",
    "    y = numpy.empty((len(pathnames),), dtype=numpy.uint8)\n",
    "    \n",
    "    z = numpy.empty((len(pathnames),), dtype=numpy.uint8)\n",
    "    \n",
    "    m = numpy.empty((len(pathnames),), dtype=numpy.uint8)\n",
    "\n",
    "    label_to_index = {label: index for index, label in enumerate(sorted(labels))}\n",
    "    \n",
    "    day_to_index = {day: index for index, day in enumerate(day_of_exp)}\n",
    "    \n",
    "    label_to_m_index = {\"Smooth Disc\": 6, \"Smooth Sphere\": 1, \"Crenated Discoid\" : 4, \"Crenated Disc_\" : 5, \"Crenated Spheroid\": 3, \"Crenated Spheres\": 2}\n",
    "\n",
    "    for index, pathname in enumerate(pathnames):\n",
    "        if os.path.isfile(pathname) == True:\n",
    "\n",
    "            day = re.search('parsed_data.Bag...(.*)', os.path.dirname(pathname)).group(1)\n",
    "            \n",
    "            label = re.search('- (.*)_Total', os.path.basename(pathname) ).group(1)\n",
    "            if label == 'Crenated Disc':\n",
    "                label = str(label + \"_\")\n",
    "\n",
    "            x[index] = numpy.load(pathname)\n",
    "\n",
    "            y[index] = label_to_index[label]\n",
    "            \n",
    "            z[index] = day_to_index[day]\n",
    "            \n",
    "            m[index] = label_to_m_index[label]\n",
    "\n",
    "    print(x.shape)\n",
    "    print(y.shape)\n",
    "    print(z.shape)\n",
    "    print(Counter(y))   \n",
    "    print(Counter(m)) \n",
    "    return x, y, z, m\n",
    "\n",
    "\n",
    "def _shape(pathname):\n",
    "    \"\"\"\n",
    "    Infer the shape of the sample data from a single sample.\n",
    "    \n",
    "    :param pathname: Path to a sample.\n",
    "    :return: Sample dimensions.\n",
    "    \"\"\"\n",
    "    return numpy.load(pathname).shape\n",
    "\n",
    "\n",
    "def get_immediate_subdirectories(a_dir):\n",
    "    return [name for name in os.listdir(a_dir)\n",
    "            if os.path.isdir(os.path.join(a_dir, name))]\n",
    "\n",
    "\n",
    "def save_metadata_label(label,labels,day,days,file):\n",
    "    with open(file, 'w') as f:\n",
    "        f.write('Day\\tLabel\\n')\n",
    "        for i in range(label.shape[0]):              \n",
    "            f.write('{}\\t{}\\n'.format( days[day[i]] , list(sorted(labels))[label[i]]))    \n",
    "\n",
    "            \n",
    "def save_metadata_numericday(day,file):\n",
    "    with open(file, 'w') as f:\n",
    "        for i in range(day.shape[0]):\n",
    "            f.write('{}\\n'.format( day[i] ))      \n",
    "\n",
    "            \n",
    "def get_class_weights(y):\n",
    "    counter = Counter(y)\n",
    "    majority = max(counter.values())\n",
    "    return  {cls: float(majority/count) for cls, count in counter.items()}"
   ]
  },
  {
   "cell_type": "code",
   "execution_count": null,
   "metadata": {},
   "outputs": [],
   "source": [
    "test_bags = ['A', 'B', 'D', 'E', 'F', 'H']\n",
    "test_bags = [str(bag + str(i+1)) for bag in test_bags for i in range(3)]"
   ]
  },
  {
   "cell_type": "code",
   "execution_count": null,
   "metadata": {},
   "outputs": [],
   "source": [
    "labels = [\"Smooth Disc\", \"Smooth Sphere\", \"Crenated Discoid\", \"Crenated Disc_\", \"Crenated Spheroid\", \"Crenated Spheres\"]\n",
    "day_of_exp = [str('D' + str(i)) for i in list(range(1,46))] "
   ]
  },
  {
   "cell_type": "code",
   "execution_count": null,
   "metadata": {},
   "outputs": [],
   "source": [
    "directories = [\"/parsed_data/BagA1/\",\n",
    "               \"/parsed_data/BagA2/\",\n",
    "               \"/parsed_data/BagA3/\",\n",
    "              \n",
    "               \"/parsed_data/BagB1/\",\n",
    "               \"/parsed_data/BagB2/\",\n",
    "               \"/parsed_data/BagB3/\",              \n",
    "               \n",
    "               \n",
    "               \"/parsed_data/BagD1/\",\n",
    "               \"/parsed_data/BagD2/\",\n",
    "               \"/parsed_data/BagD3/\", \n",
    "                                  \n",
    "               \n",
    "               \"/parsed_data/BagE1/\",\n",
    "               \"/parsed_data/BagE2/\",\n",
    "               \"/parsed_data/BagE3/\", \n",
    "               \n",
    "               \"/parsed_data/BagF1/\",\n",
    "               \"/parsed_data/BagF2/\",\n",
    "               \"/parsed_data/BagF3/\",                     \n",
    "               \n",
    "               \"/parsed_data/BagH1/\",\n",
    "               \"/parsed_data/BagH2/\",\n",
    "               \"/parsed_data/BagH3/\"                  \n",
    "              ]"
   ]
  },
  {
   "cell_type": "markdown",
   "metadata": {},
   "source": [
    "# Sampling for training set"
   ]
  },
  {
   "cell_type": "code",
   "execution_count": null,
   "metadata": {},
   "outputs": [],
   "source": [
    "pathnames = collect_pathnames(directories, labels)\n",
    "xx, y, z, m = load(pathnames, labels, day_of_exp)\n",
    "x = xx[:,:,:,0:3:2]\n",
    "print(\"x: \", x.shape)\n",
    "print(\"y: \", y.shape)\n",
    "print(Counter(y))\n",
    "print(\"z: \",Counter(z))\n",
    "print(\"m: \",Counter(m))"
   ]
  },
  {
   "cell_type": "code",
   "execution_count": null,
   "metadata": {},
   "outputs": [],
   "source": [
    "class_weight = get_class_weights(y)"
   ]
  },
  {
   "cell_type": "markdown",
   "metadata": {},
   "source": [
    "# Start training"
   ]
  },
  {
   "cell_type": "code",
   "execution_count": null,
   "metadata": {},
   "outputs": [],
   "source": [
    "# build session running on GPU 1\n",
    "configuration = tensorflow.ConfigProto()\n",
    "configuration.gpu_options.allow_growth = True\n",
    "configuration.gpu_options.visible_device_list = \"2\"\n",
    "session = tensorflow.Session(config = configuration)\n",
    "\n",
    "# apply session\n",
    "keras.backend.set_session(session)"
   ]
  },
  {
   "cell_type": "code",
   "execution_count": null,
   "metadata": {},
   "outputs": [],
   "source": [
    "model = deepometry.model.Model(shape=x.shape[1:], units=len(labels))\n",
    "\n",
    "model.compile()\n",
    "\n",
    "model.fit(\n",
    "    x,\n",
    "    y,\n",
    "    class_weight = class_weight,\n",
    "    batch_size=64,\n",
    "    epochs=512,\n",
    "    validation_split=0.3,\n",
    "    verbose=1\n",
    ")"
   ]
  },
  {
   "cell_type": "markdown",
   "metadata": {},
   "source": [
    "# End training and save trained model"
   ]
  },
  {
   "cell_type": "code",
   "execution_count": null,
   "metadata": {},
   "outputs": [],
   "source": [
    "model_directory = '/models/resnet'\n",
    "\n",
    "if not os.path.exists(model_directory):\n",
    "     os.makedirs(model_directory)\n",
    "    \n",
    "model.model.save( os.path.join(model_directory, 'model.h5') )"
   ]
  },
  {
   "cell_type": "markdown",
   "metadata": {},
   "source": [
    "# Display loss and accuracy curve"
   ]
  },
  {
   "cell_type": "code",
   "execution_count": null,
   "metadata": {},
   "outputs": [],
   "source": [
    "%matplotlib inline\n",
    "import pandas\n",
    "import pkg_resources\n",
    "import matplotlib.pyplot"
   ]
  },
  {
   "cell_type": "code",
   "execution_count": null,
   "metadata": {},
   "outputs": [],
   "source": [
    "csv = pandas.read_csv(pkg_resources.resource_filename(\"deepometry\", \"deepometry/data/training.csv\"))\n",
    "\n",
    "_, (ax0, ax1) = matplotlib.pyplot.subplots(ncols=2, figsize=(16, 4))\n",
    "\n",
    "ax0.plot(csv[\"acc\"], c=\"r\")\n",
    "ax0.plot(csv[\"val_acc\"], c=\"b\")\n",
    "\n",
    "ax1.plot(csv[\"loss\"][30:], c=\"r\")\n",
    "ax1.plot(csv[\"val_loss\"][30:], c=\"b\");"
   ]
  }
 ],
 "metadata": {
  "kernelspec": {
   "display_name": "Python 3",
   "language": "python",
   "name": "python3"
  },
  "language_info": {
   "codemirror_mode": {
    "name": "ipython",
    "version": 3
   },
   "file_extension": ".py",
   "mimetype": "text/x-python",
   "name": "python",
   "nbconvert_exporter": "python",
   "pygments_lexer": "ipython3",
   "version": "3.6.4"
  }
 },
 "nbformat": 4,
 "nbformat_minor": 2
}
